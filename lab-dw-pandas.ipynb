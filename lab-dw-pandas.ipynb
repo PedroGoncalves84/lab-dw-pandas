{
 "cells": [
  {
   "cell_type": "code",
   "execution_count": 1,
   "id": "896c0318-b721-443d-adb2-ea3fbf6a2413",
   "metadata": {},
   "outputs": [],
   "source": [
    "import pandas as pd\n",
    "\n",
    "url= \"https://raw.githubusercontent.com/data-bootcamp-v4/data/main/file1.csv\"\n",
    "\n",
    "df = pd.read_csv(url)"
   ]
  },
  {
   "cell_type": "code",
   "execution_count": 2,
   "id": "e6d2e0e4-9be9-4dbf-a832-33754f1106b5",
   "metadata": {},
   "outputs": [
    {
     "data": {
      "text/plain": [
       "(4008, 11)"
      ]
     },
     "execution_count": 2,
     "metadata": {},
     "output_type": "execute_result"
    }
   ],
   "source": [
    "df.shape"
   ]
  },
  {
   "cell_type": "code",
   "execution_count": 3,
   "id": "91e1ef7b-a960-40a4-8224-acfc0ba9af27",
   "metadata": {},
   "outputs": [
    {
     "name": "stdout",
     "output_type": "stream",
     "text": [
      "Customer                      object\n",
      "ST                            object\n",
      "GENDER                        object\n",
      "Education                     object\n",
      "Customer Lifetime Value       object\n",
      "Income                       float64\n",
      "Monthly Premium Auto         float64\n",
      "Number of Open Complaints     object\n",
      "Policy Type                   object\n",
      "Vehicle Class                 object\n",
      "Total Claim Amount           float64\n",
      "dtype: object\n"
     ]
    }
   ],
   "source": [
    "print(df.dtypes)"
   ]
  },
  {
   "cell_type": "code",
   "execution_count": 4,
   "id": "56b32dfa-e54e-487a-9759-1b8ec99de7a5",
   "metadata": {},
   "outputs": [
    {
     "data": {
      "text/html": [
       "<div>\n",
       "<style scoped>\n",
       "    .dataframe tbody tr th:only-of-type {\n",
       "        vertical-align: middle;\n",
       "    }\n",
       "\n",
       "    .dataframe tbody tr th {\n",
       "        vertical-align: top;\n",
       "    }\n",
       "\n",
       "    .dataframe thead th {\n",
       "        text-align: right;\n",
       "    }\n",
       "</style>\n",
       "<table border=\"1\" class=\"dataframe\">\n",
       "  <thead>\n",
       "    <tr style=\"text-align: right;\">\n",
       "      <th></th>\n",
       "      <th>Customer</th>\n",
       "      <th>ST</th>\n",
       "      <th>GENDER</th>\n",
       "      <th>Education</th>\n",
       "      <th>Customer Lifetime Value</th>\n",
       "      <th>Income</th>\n",
       "      <th>Monthly Premium Auto</th>\n",
       "      <th>Number of Open Complaints</th>\n",
       "      <th>Policy Type</th>\n",
       "      <th>Vehicle Class</th>\n",
       "      <th>Total Claim Amount</th>\n",
       "    </tr>\n",
       "  </thead>\n",
       "  <tbody>\n",
       "    <tr>\n",
       "      <th>0</th>\n",
       "      <td>RB50392</td>\n",
       "      <td>Washington</td>\n",
       "      <td>NaN</td>\n",
       "      <td>Master</td>\n",
       "      <td>NaN</td>\n",
       "      <td>0.0</td>\n",
       "      <td>1000.0</td>\n",
       "      <td>1/0/00</td>\n",
       "      <td>Personal Auto</td>\n",
       "      <td>Four-Door Car</td>\n",
       "      <td>2.704934</td>\n",
       "    </tr>\n",
       "    <tr>\n",
       "      <th>1</th>\n",
       "      <td>QZ44356</td>\n",
       "      <td>Arizona</td>\n",
       "      <td>F</td>\n",
       "      <td>Bachelor</td>\n",
       "      <td>697953.59%</td>\n",
       "      <td>0.0</td>\n",
       "      <td>94.0</td>\n",
       "      <td>1/0/00</td>\n",
       "      <td>Personal Auto</td>\n",
       "      <td>Four-Door Car</td>\n",
       "      <td>1131.464935</td>\n",
       "    </tr>\n",
       "    <tr>\n",
       "      <th>2</th>\n",
       "      <td>AI49188</td>\n",
       "      <td>Nevada</td>\n",
       "      <td>F</td>\n",
       "      <td>Bachelor</td>\n",
       "      <td>1288743.17%</td>\n",
       "      <td>48767.0</td>\n",
       "      <td>108.0</td>\n",
       "      <td>1/0/00</td>\n",
       "      <td>Personal Auto</td>\n",
       "      <td>Two-Door Car</td>\n",
       "      <td>566.472247</td>\n",
       "    </tr>\n",
       "    <tr>\n",
       "      <th>3</th>\n",
       "      <td>WW63253</td>\n",
       "      <td>California</td>\n",
       "      <td>M</td>\n",
       "      <td>Bachelor</td>\n",
       "      <td>764586.18%</td>\n",
       "      <td>0.0</td>\n",
       "      <td>106.0</td>\n",
       "      <td>1/0/00</td>\n",
       "      <td>Corporate Auto</td>\n",
       "      <td>SUV</td>\n",
       "      <td>529.881344</td>\n",
       "    </tr>\n",
       "    <tr>\n",
       "      <th>4</th>\n",
       "      <td>GA49547</td>\n",
       "      <td>Washington</td>\n",
       "      <td>M</td>\n",
       "      <td>High School or Below</td>\n",
       "      <td>536307.65%</td>\n",
       "      <td>36357.0</td>\n",
       "      <td>68.0</td>\n",
       "      <td>1/0/00</td>\n",
       "      <td>Personal Auto</td>\n",
       "      <td>Four-Door Car</td>\n",
       "      <td>17.269323</td>\n",
       "    </tr>\n",
       "  </tbody>\n",
       "</table>\n",
       "</div>"
      ],
      "text/plain": [
       "  Customer          ST GENDER             Education Customer Lifetime Value  \\\n",
       "0  RB50392  Washington    NaN                Master                     NaN   \n",
       "1  QZ44356     Arizona      F              Bachelor              697953.59%   \n",
       "2  AI49188      Nevada      F              Bachelor             1288743.17%   \n",
       "3  WW63253  California      M              Bachelor              764586.18%   \n",
       "4  GA49547  Washington      M  High School or Below              536307.65%   \n",
       "\n",
       "    Income  Monthly Premium Auto Number of Open Complaints     Policy Type  \\\n",
       "0      0.0                1000.0                    1/0/00   Personal Auto   \n",
       "1      0.0                  94.0                    1/0/00   Personal Auto   \n",
       "2  48767.0                 108.0                    1/0/00   Personal Auto   \n",
       "3      0.0                 106.0                    1/0/00  Corporate Auto   \n",
       "4  36357.0                  68.0                    1/0/00   Personal Auto   \n",
       "\n",
       "   Vehicle Class  Total Claim Amount  \n",
       "0  Four-Door Car            2.704934  \n",
       "1  Four-Door Car         1131.464935  \n",
       "2   Two-Door Car          566.472247  \n",
       "3            SUV          529.881344  \n",
       "4  Four-Door Car           17.269323  "
      ]
     },
     "execution_count": 4,
     "metadata": {},
     "output_type": "execute_result"
    }
   ],
   "source": [
    "df.head()\n"
   ]
  },
  {
   "cell_type": "code",
   "execution_count": null,
   "id": "0575cfaf-859f-46b3-9b57-181c4f60a074",
   "metadata": {},
   "outputs": [
    {
     "name": "stdout",
     "output_type": "stream",
     "text": [
      "0       1.0\n",
      "1       1.0\n",
      "2       1.0\n",
      "3       1.0\n",
      "4       1.0\n",
      "       ... \n",
      "4003    NaN\n",
      "4004    NaN\n",
      "4005    NaN\n",
      "4006    NaN\n",
      "4007    NaN\n",
      "Name: nr_comp, Length: 4008, dtype: float64\n"
     ]
    }
   ],
   "source": [
    "#Number of complaints are in a date format\n",
    "df[\"nr_comp\"] = df[\"Number of Open Complaints\"].str.split(\"/\").str[0].astype(float)\n",
    "\n",
    "print(df[\"nr_comp\"])\n"
   ]
  },
  {
   "cell_type": "code",
   "execution_count": null,
   "id": "5fb02ca5",
   "metadata": {},
   "outputs": [
    {
     "name": "stdout",
     "output_type": "stream",
     "text": [
      "Customer                     1071\n",
      "ST                              8\n",
      "GENDER                          5\n",
      "Education                       6\n",
      "Customer Lifetime Value      1027\n",
      "Income                        774\n",
      "Monthly Premium Auto          132\n",
      "Number of Open Complaints       6\n",
      "Policy Type                     3\n",
      "Vehicle Class                   6\n",
      "Total Claim Amount            761\n",
      "nr_comp                         1\n",
      "dtype: int64\n"
     ]
    }
   ],
   "source": [
    "unique_counts = df.nunique()\n",
    "ehiclprint(unique_counts)"
   ]
  },
  {
   "cell_type": "code",
   "execution_count": null,
   "id": "d98e7f92",
   "metadata": {},
   "outputs": [],
   "source": [
    "categorical=['Customer', 'ST', 'GENDER', 'Education', 'Policy Type', 'Vehicle Class']\n"
   ]
  },
  {
   "cell_type": "code",
   "execution_count": null,
   "id": "80a5c0f0",
   "metadata": {},
   "outputs": [
    {
     "data": {
      "text/plain": [
       "count        1071\n",
       "unique       1071\n",
       "top       RB50392\n",
       "freq            1\n",
       "Name: Customer, dtype: object"
      ]
     },
     "execution_count": 32,
     "metadata": {},
     "output_type": "execute_result"
    }
   ],
   "source": [
    "df[\"Customer\"].describe()\n",
    "# Each costumer has a unique ID number"
   ]
  },
  {
   "cell_type": "code",
   "execution_count": null,
   "id": "342c05ca",
   "metadata": {},
   "outputs": [
    {
     "data": {
      "text/plain": [
       "count       1071\n",
       "unique         8\n",
       "top       Oregon\n",
       "freq         320\n",
       "Name: ST, dtype: object"
      ]
     },
     "execution_count": 23,
     "metadata": {},
     "output_type": "execute_result"
    }
   ],
   "source": [
    "df[\"ST\"].describe()\n",
    "# There are costumers from 8 different states, most of them from Oregon"
   ]
  },
  {
   "cell_type": "code",
   "execution_count": null,
   "id": "94dabd9b",
   "metadata": {},
   "outputs": [
    {
     "data": {
      "text/plain": [
       "count     954\n",
       "unique      5\n",
       "top         F\n",
       "freq      457\n",
       "Name: GENDER, dtype: object"
      ]
     },
     "execution_count": 24,
     "metadata": {},
     "output_type": "execute_result"
    }
   ],
   "source": [
    "df[\"GENDER\"].describe() \n",
    "# It should be only 2 unique values, 'F' and 'M'"
   ]
  },
  {
   "cell_type": "code",
   "execution_count": null,
   "id": "98dff734",
   "metadata": {},
   "outputs": [
    {
     "data": {
      "text/plain": [
       "count         1071\n",
       "unique           6\n",
       "top       Bachelor\n",
       "freq           324\n",
       "Name: Education, dtype: object"
      ]
     },
     "execution_count": 25,
     "metadata": {},
     "output_type": "execute_result"
    }
   ],
   "source": [
    "df[\"Education\"].describe()\n",
    "# There are 6 different education levels for costumers, most of them Bachelor"
   ]
  },
  {
   "cell_type": "code",
   "execution_count": null,
   "id": "c236246f",
   "metadata": {},
   "outputs": [
    {
     "data": {
      "text/plain": [
       "count              1071\n",
       "unique                3\n",
       "top       Personal Auto\n",
       "freq                780\n",
       "Name: Policy Type, dtype: object"
      ]
     },
     "execution_count": 39,
     "metadata": {},
     "output_type": "execute_result"
    }
   ],
   "source": [
    "df[\"Policy Type\"].describe()\n",
    "# There are 3 different policy types, most of them personal auto"
   ]
  },
  {
   "cell_type": "code",
   "execution_count": null,
   "id": "9ab3faac",
   "metadata": {},
   "outputs": [
    {
     "data": {
      "text/plain": [
       "count              1071\n",
       "unique                6\n",
       "top       Four-Door Car\n",
       "freq                576\n",
       "Name: Vehicle Class, dtype: object"
      ]
     },
     "execution_count": 29,
     "metadata": {},
     "output_type": "execute_result"
    }
   ],
   "source": [
    "df[\"Vehicle Class\"].describe()\n",
    "# There are 6 different vehicle classes, most of them four door car"
   ]
  },
  {
   "cell_type": "code",
   "execution_count": null,
   "id": "fa0bae53",
   "metadata": {},
   "outputs": [],
   "source": [
    "numerical= ['Customer Lifetime Value', 'Income', 'Monthly Premium Auto', 'Number of Open Complaints', 'Total Claim Amount']"
   ]
  },
  {
   "cell_type": "code",
   "execution_count": null,
   "id": "684d85cb",
   "metadata": {},
   "outputs": [
    {
     "name": "stdout",
     "output_type": "stream",
     "text": [
      "Min: 0.0\n",
      "Max: 99960.0\n"
     ]
    }
   ],
   "source": [
    "print(\"Min:\", df[\"Income\"].min())\n",
    "print(\"Max:\", df[\"Income\"].max())\n",
    "#"
   ]
  },
  {
   "cell_type": "code",
   "execution_count": 35,
   "id": "273f9442",
   "metadata": {},
   "outputs": [
    {
     "name": "stdout",
     "output_type": "stream",
     "text": [
      "Min: 61.0\n",
      "Max: 35354.0\n"
     ]
    }
   ],
   "source": [
    "print(\"Min:\", df[\"Monthly Premium Auto\"].min())\n",
    "print(\"Max:\", df[\"Monthly Premium Auto\"].max())"
   ]
  },
  {
   "cell_type": "code",
   "execution_count": null,
   "id": "0488bd96",
   "metadata": {},
   "outputs": [
    {
     "name": "stdout",
     "output_type": "stream",
     "text": [
      "Min: 1.0\n",
      "Max: 1.0\n"
     ]
    }
   ],
   "source": [
    "print(\"Min:\", df[\"nr_comp\"].min())\n",
    "print(\"Max:\", df[\"nr_comp\"].max())\n",
    "# There are clients with a maximum of 1 complain, if the costumers don´t have a complain the value is nan, that´s why the min value is also 1"
   ]
  },
  {
   "cell_type": "code",
   "execution_count": 37,
   "id": "553ffa4d",
   "metadata": {},
   "outputs": [
    {
     "name": "stdout",
     "output_type": "stream",
     "text": [
      "Min: 0.382107\n",
      "Max: 2893.239678\n"
     ]
    }
   ],
   "source": [
    "print(\"Min:\", df[\"Total Claim Amount\"].min())\n",
    "print(\"Max:\", df[\"Total Claim Amount\"].max())"
   ]
  },
  {
   "cell_type": "code",
   "execution_count": 42,
   "id": "65f08483",
   "metadata": {},
   "outputs": [],
   "source": [
    "numerical_2=['Income', 'Monthly Premium Auto', 'nr_comp', 'Total Claim Amount']"
   ]
  },
  {
   "cell_type": "code",
   "execution_count": 44,
   "id": "5ff8d266",
   "metadata": {},
   "outputs": [
    {
     "name": "stdout",
     "output_type": "stream",
     "text": [
      "                              Mean        Median   Mode       Std Dev  \\\n",
      "Income                39295.701214  36234.000000    0.0  30469.427060   \n",
      "Monthly Premium Auto    193.234360     83.000000   65.0   1601.190369   \n",
      "nr_comp                   1.000000      1.000000    1.0      0.000000   \n",
      "Total Claim Amount      404.986909    354.729129  321.6    293.027260   \n",
      "\n",
      "                            Min           25%           50%      75%  \\\n",
      "Income                 0.000000  14072.000000  36234.000000  64631.0   \n",
      "Monthly Premium Auto  61.000000     68.000000     83.000000    109.5   \n",
      "nr_comp                1.000000      1.000000      1.000000      1.0   \n",
      "Total Claim Amount     0.382107    202.157702    354.729129    532.8   \n",
      "\n",
      "                               Max  \n",
      "Income                99960.000000  \n",
      "Monthly Premium Auto  35354.000000  \n",
      "nr_comp                   1.000000  \n",
      "Total Claim Amount     2893.239678  \n"
     ]
    }
   ],
   "source": [
    "summary_stats = pd.DataFrame({\n",
    "    \"Mean\": df[numerical_2].mean(),\n",
    "    \"Median\": df[numerical_2].median(),\n",
    "    \"Mode\": df[numerical_2].mode().iloc[0],  \n",
    "    \"Std Dev\": df[numerical_2].std(),\n",
    "    \"Min\": df[numerical_2].min(),\n",
    "    \"25%\": df[numerical_2].quantile(0.25),\n",
    "    \"50%\": df[numerical_2].quantile(0.5),\n",
    "    \"75%\": df[numerical_2].quantile(0.75),\n",
    "    \"Max\": df[numerical_2].max()\n",
    "})\n",
    "\n",
    "print(summary_stats)    "
   ]
  },
  {
   "cell_type": "code",
   "execution_count": null,
   "id": "a23b1676",
   "metadata": {},
   "outputs": [],
   "source": [
    "#CHALLENGE 2"
   ]
  },
  {
   "cell_type": "code",
   "execution_count": 46,
   "id": "e394beda",
   "metadata": {},
   "outputs": [
    {
     "name": "stdout",
     "output_type": "stream",
     "text": [
      "Top 5 least common customer locations:\n",
      "ST\n",
      "AZ             25\n",
      "WA             30\n",
      "Washington     81\n",
      "Nevada         98\n",
      "Cali          120\n",
      "Name: count, dtype: int64\n"
     ]
    }
   ],
   "source": [
    "location = 'ST'  \n",
    "\n",
    "location_counts = df[location].value_counts()\n",
    "\n",
    "less_common = location_counts.sort_values(ascending=True).head(5)\n",
    "\n",
    "print(\"Top 5 least common customer locations:\")\n",
    "print(less_common)"
   ]
  },
  {
   "cell_type": "code",
   "execution_count": 47,
   "id": "0fffc15f",
   "metadata": {},
   "outputs": [
    {
     "name": "stdout",
     "output_type": "stream",
     "text": [
      "Number of policies sold by type:\n",
      "Policy Type\n",
      "Personal Auto     780\n",
      "Corporate Auto    234\n",
      "Special Auto       57\n",
      "Name: count, dtype: int64\n"
     ]
    }
   ],
   "source": [
    "policy_col = 'Policy Type'\n",
    "\n",
    "policy_counts = df[policy_col].value_counts()\n",
    "\n",
    "print(\"Number of policies sold by type:\")\n",
    "print(policy_counts)\n",
    "\n",
    "\n",
    "top_policy_type = policy_counts.idxmax()\n",
    "top_policy_count = policy_counts.max()"
   ]
  },
  {
   "cell_type": "code",
   "execution_count": 50,
   "id": "b688a478",
   "metadata": {},
   "outputs": [
    {
     "name": "stdout",
     "output_type": "stream",
     "text": [
      "Average Income for Personal Auto: 38180.69871794872\n",
      "Average Income for Corporate Auto: 41390.31196581197\n"
     ]
    }
   ],
   "source": [
    "personal_auto_df = df.loc[df['Policy Type'] == 'Personal Auto']\n",
    "corporate_auto_df = df.loc[df['Policy Type'] == 'Corporate Auto']\n",
    "\n",
    "personal_income_avg = personal_auto_df['Income'].mean()\n",
    "corporate_income_avg = corporate_auto_df['Income'].mean()\n",
    "\n",
    "print(f\"Average Income for Personal Auto: {personal_income_avg}\")\n",
    "print(f\"Average Income for Corporate Auto: {corporate_income_avg}\")\n"
   ]
  }
 ],
 "metadata": {
  "kernelspec": {
   "display_name": "base",
   "language": "python",
   "name": "python3"
  },
  "language_info": {
   "codemirror_mode": {
    "name": "ipython",
    "version": 3
   },
   "file_extension": ".py",
   "mimetype": "text/x-python",
   "name": "python",
   "nbconvert_exporter": "python",
   "pygments_lexer": "ipython3",
   "version": "3.12.7"
  }
 },
 "nbformat": 4,
 "nbformat_minor": 5
}
